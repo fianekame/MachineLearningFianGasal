{
 "cells": [
  {
   "cell_type": "markdown",
   "metadata": {},
   "source": [
    "# Note 1 Linear Regression\n",
    "[![N|Solid](https://cldup.com/dTxpPi9lDf.thumb.png)](https://nodesource.com/products/nsolid)\n"
   ]
  },
  {
   "cell_type": "markdown",
   "metadata": {},
   "source": [
    "## Regression\n",
    "Prediksi atau menghasilkan nilai real (continous value) berdasarkan sejumlah fitur atau atribut. "
   ]
  },
  {
   "cell_type": "markdown",
   "metadata": {},
   "source": []
  },
  {
   "cell_type": "markdown",
   "metadata": {},
   "source": [
    "## Linear Regression\n",
    "Linear Regression adalah salah satu metode yang ada pada machine learning, metode yang cukup dalam proses supervised learning untuk klasifikasi. permasalahan sederhana dalam penerapan ini adalah menentukan output berdasarkan nilai value sebenarnya pada sebuah dataset. linear sendiri terbagi menjadi dua macam, yaitu `simple linear` dan `multivariate`"
   ]
  },
  {
   "cell_type": "markdown",
   "metadata": {},
   "source": [
    "### Simple Linear\n",
    "Secara sederhana pengertian dari simple linear sendiri adalah metode yang menggunakan data fitur tidak lebih dari satu. sehingga untuk pencarian intercept dan koefisiannya dihasilkan berdasarkan perhitungan varian dan covariannya. rumus yang digunakan :"
   ]
  },
  {
   "cell_type": "markdown",
   "metadata": {},
   "source": [
    "\\begin{eqnarray}\n",
    "f:\\Re \\rightarrow \\Re \\quad f(x;w)&=&w_0+w_1x \\\\\n",
    "\\end{eqnarray}\n"
   ]
  },
  {
   "cell_type": "markdown",
   "metadata": {},
   "source": [
    "pencarian `kovarian` dan `varian` serta `intercept` dan `koefisian` seperti berikut:"
   ]
  },
  {
   "cell_type": "markdown",
   "metadata": {},
   "source": [
    "\\begin{eqnarray}\n",
    "var(x)&=&\\frac{\\sum_{i=1}^{n}(x_i-\\bar{x})^2}{n-1}\\\\\n",
    "cov(x,y)&=&\\frac{\\sum_{i=1}^{n}(x_i-\\bar{x})(y_i-\\bar{y})}{n-1}\\\\\n",
    "\\end{eqnarray}"
   ]
  },
  {
   "cell_type": "markdown",
   "metadata": {},
   "source": [
    "\\begin{eqnarray}\n",
    "w_1&=&\\frac{cov(x,y)}{var(x)}\\\\\n",
    "w_0&=&\\bar{y}-w_1\\bar{x}\n",
    "\\end{eqnarray}"
   ]
  },
  {
   "cell_type": "markdown",
   "metadata": {},
   "source": [
    "### Multivariate\n",
    "Sedangkan jika bentuk data memiliki fitur lebih dari satu, simple linear tidak dapat menghandle itu, sehingga ada yang nama multivariate yang mampu menhandle data dengan fitur yang cukup banyak.\n",
    "rumus untuk multivariate seperti berikut :"
   ]
  },
  {
   "cell_type": "markdown",
   "metadata": {},
   "source": [
    "\\begin{eqnarray}\n",
    "f:\\Re \\rightarrow \\Re^d \\quad f(x;w)&=&w_0+w_1x_1+...+w_dx_d \\\\\n",
    "\\end{eqnarray}"
   ]
  }
 ],
 "metadata": {
  "kernelspec": {
   "display_name": "Python 3",
   "language": "python",
   "name": "python3"
  },
  "language_info": {
   "codemirror_mode": {
    "name": "ipython",
    "version": 3
   },
   "file_extension": ".py",
   "mimetype": "text/x-python",
   "name": "python",
   "nbconvert_exporter": "python",
   "pygments_lexer": "ipython3",
   "version": "3.6.5"
  }
 },
 "nbformat": 4,
 "nbformat_minor": 2
}
